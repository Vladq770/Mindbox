{
  "nbformat": 4,
  "nbformat_minor": 0,
  "metadata": {
    "colab": {
      "provenance": []
    },
    "kernelspec": {
      "name": "python3",
      "display_name": "Python 3"
    },
    "language_info": {
      "name": "python"
    }
  },
  "cells": [
    {
      "cell_type": "code",
      "execution_count": null,
      "metadata": {
        "id": "7Zvw9jCtOI90"
      },
      "outputs": [],
      "source": [
        "!pip install pyspark==3.0.1 py4j==0.10.9"
      ]
    },
    {
      "cell_type": "code",
      "source": [
        "from pyspark.sql import SparkSession\n",
        "from pyspark.sql.functions import col"
      ],
      "metadata": {
        "id": "mVgYtbm_RoS7"
      },
      "execution_count": 3,
      "outputs": []
    },
    {
      "cell_type": "code",
      "source": [
        "def get_product_category_pairs(products_df, categories_df, relationship_df):\n",
        "\n",
        " return products_df.join(relationship_df, \"product_id\", \"left_outer\").join(categories_df, \"category_id\", \"left_outer\").select(\"product\", \"category\")"
      ],
      "metadata": {
        "id": "1frmQ5TPRpeD"
      },
      "execution_count": 19,
      "outputs": []
    },
    {
      "cell_type": "code",
      "source": [
        "# Создание сессии Spark\n",
        "spark = SparkSession.builder.appName(\"Many-to-Many Join\").getOrCreate()\n",
        "\n",
        "# Создание DataFrame продуктов\n",
        "products_data = [(\"Product A\", 1), (\"Product B\", 2), (\"Product C\", 3), (\"Product D\", 4)]\n",
        "products_df = spark.createDataFrame(products_data, [\"product\", \"product_id\"])\n",
        "\n",
        "# Создание DataFrame категорий\n",
        "categories_data = [(\"Category X\", 1), (\"Category Y\", 2), (\"Category Z\", 3)]\n",
        "categories_df = spark.createDataFrame(categories_data, [\"category\", \"category_id\"])\n",
        "\n",
        "# Промежуточный DataFrame связей\n",
        "relationship_data = [(1, 1), (1, 2), (2, 2), (2, 3)]\n",
        "relationship_df = spark.createDataFrame(relationship_data, [\"product_id\", \"category_id\"])\n",
        "\n",
        "# Выполнение многие-ко-многим join\n",
        "result = get_product_category_pairs(products_df, categories_df, relationship_df)\n",
        "\n",
        "# Показать результат\n",
        "result.show()\n",
        "#df1.show()"
      ],
      "metadata": {
        "colab": {
          "base_uri": "https://localhost:8080/"
        },
        "id": "NBB5JzueXk5d",
        "outputId": "130163ae-5eea-410b-dd36-32f3dc1e7283"
      },
      "execution_count": 22,
      "outputs": [
        {
          "output_type": "stream",
          "name": "stdout",
          "text": [
            "+---------+----------+\n",
            "|  product|  category|\n",
            "+---------+----------+\n",
            "|Product C|      null|\n",
            "|Product D|      null|\n",
            "|Product A|Category X|\n",
            "|Product B|Category Z|\n",
            "|Product A|Category Y|\n",
            "|Product B|Category Y|\n",
            "+---------+----------+\n",
            "\n"
          ]
        }
      ]
    }
  ]
}