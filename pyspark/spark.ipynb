{
  "nbformat": 4,
  "nbformat_minor": 0,
  "metadata": {
    "colab": {
      "provenance": []
    },
    "kernelspec": {
      "name": "python3",
      "display_name": "Python 3"
    },
    "language_info": {
      "name": "python"
    }
  },
  "cells": [
    {
      "cell_type": "code",
      "execution_count": 1,
      "metadata": {
        "id": "7Zvw9jCtOI90",
        "colab": {
          "base_uri": "https://localhost:8080/"
        },
        "outputId": "3e4be886-5c60-44e4-e675-ef274b40bee1"
      },
      "outputs": [
        {
          "output_type": "stream",
          "name": "stdout",
          "text": [
            "Requirement already satisfied: pyspark==3.5.5 in /usr/local/lib/python3.11/dist-packages (3.5.5)\n",
            "Requirement already satisfied: py4j==0.10.9.7 in /usr/local/lib/python3.11/dist-packages (from pyspark==3.5.5) (0.10.9.7)\n"
          ]
        }
      ],
      "source": [
        "!pip install pyspark==3.5.5"
      ]
    },
    {
      "cell_type": "code",
      "source": [
        "from pyspark.sql import SparkSession\n",
        "from pyspark.sql.functions import col"
      ],
      "metadata": {
        "id": "mVgYtbm_RoS7"
      },
      "execution_count": 2,
      "outputs": []
    },
    {
      "cell_type": "code",
      "source": [
        "def get_product_category_pairs(products_df, categories_df, relationship_df):\n",
        "\n",
        " return products_df.join(relationship_df, \"product_id\", \"left_outer\").join(categories_df, \"category_id\", \"left_outer\").select(\"product\", \"category\")"
      ],
      "metadata": {
        "id": "1frmQ5TPRpeD"
      },
      "execution_count": 3,
      "outputs": []
    },
    {
      "cell_type": "code",
      "source": [
        "# Создание сессии Spark\n",
        "spark = SparkSession.builder.appName(\"Many-to-Many Join\").getOrCreate()\n",
        "\n",
        "# Создание DataFrame продуктов\n",
        "products_data = [(\"Product A\", 1), (\"Product B\", 2), (\"Product C\", 3), (\"Product D\", 4)]\n",
        "products_df = spark.createDataFrame(products_data, [\"product\", \"product_id\"])\n",
        "\n",
        "# Создание DataFrame категорий\n",
        "categories_data = [(\"Category X\", 1), (\"Category Y\", 2), (\"Category Z\", 3)]\n",
        "categories_df = spark.createDataFrame(categories_data, [\"category\", \"category_id\"])\n",
        "\n",
        "# Промежуточный DataFrame связей\n",
        "relationship_data = [(1, 1), (1, 2), (2, 2), (2, 3)]\n",
        "relationship_df = spark.createDataFrame(relationship_data, [\"product_id\", \"category_id\"])\n",
        "\n",
        "# Выполнение многие-ко-многим join\n",
        "result = get_product_category_pairs(products_df, categories_df, relationship_df)\n",
        "\n",
        "# Показать результат\n",
        "result.show()\n",
        "#df1.show()"
      ],
      "metadata": {
        "colab": {
          "base_uri": "https://localhost:8080/"
        },
        "id": "NBB5JzueXk5d",
        "outputId": "3a9b5443-4597-4131-d759-b7703737c507"
      },
      "execution_count": 4,
      "outputs": [
        {
          "output_type": "stream",
          "name": "stdout",
          "text": [
            "+---------+----------+\n",
            "|  product|  category|\n",
            "+---------+----------+\n",
            "|Product A|Category Y|\n",
            "|Product A|Category X|\n",
            "|Product B|Category Z|\n",
            "|Product B|Category Y|\n",
            "|Product C|      NULL|\n",
            "|Product D|      NULL|\n",
            "+---------+----------+\n",
            "\n"
          ]
        }
      ]
    }
  ]
}